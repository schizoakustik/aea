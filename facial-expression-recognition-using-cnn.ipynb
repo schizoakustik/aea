{
 "cells": [
  {
   "cell_type": "markdown",
   "id": "f2a6d64d",
   "metadata": {
    "id": "5z8nt9uSJkGr",
    "papermill": {
     "duration": 0.012956,
     "end_time": "2024-04-16T14:19:48.664901",
     "exception": false,
     "start_time": "2024-04-16T14:19:48.651945",
     "status": "completed"
    },
    "tags": []
   },
   "source": [
    "# Facial Expression Recognition Using CNN"
   ]
  },
  {
   "cell_type": "markdown",
   "id": "db532915",
   "metadata": {},
   "source": [
    "Adapted from https://www.kaggle.com/code/naeemahmedhaji/facial-expression-recognition-using-cnn/notebook"
   ]
  },
  {
   "cell_type": "code",
   "execution_count": 16,
   "id": "036e74a3",
   "metadata": {
    "execution": {
     "iopub.execute_input": "2024-04-16T14:19:48.739220Z",
     "iopub.status.busy": "2024-04-16T14:19:48.738870Z",
     "iopub.status.idle": "2024-04-16T14:20:04.150185Z",
     "shell.execute_reply": "2024-04-16T14:20:04.149319Z"
    },
    "id": "fDYyQlK_iMSL",
    "papermill": {
     "duration": 15.426852,
     "end_time": "2024-04-16T14:20:04.152491",
     "exception": false,
     "start_time": "2024-04-16T14:19:48.725639",
     "status": "completed"
    },
    "tags": []
   },
   "outputs": [],
   "source": [
    "import numpy as np\n",
    "import tensorflow as tf\n",
    "import keras\n",
    "import keras_cv\n",
    "import matplotlib.pyplot as plt"
   ]
  },
  {
   "cell_type": "code",
   "execution_count": 3,
   "id": "8106665f",
   "metadata": {},
   "outputs": [],
   "source": [
    "emotion_labels = list(map(str.lower, ['Angry','Disgust','Fear','Happy','Neutral', 'Sad', 'Surprise']))"
   ]
  },
  {
   "cell_type": "markdown",
   "id": "950e8d59",
   "metadata": {},
   "source": [
    "Using `image_dataset_from_diretory` to create train and validation sets."
   ]
  },
  {
   "cell_type": "code",
   "execution_count": 4,
   "id": "69cb98f2",
   "metadata": {},
   "outputs": [
    {
     "name": "stdout",
     "output_type": "stream",
     "text": [
      "Found 28821 files belonging to 7 classes.\n",
      "Found 7066 files belonging to 7 classes.\n"
     ]
    }
   ],
   "source": [
    "batch_size  = 128\n",
    "image_size = 48\n",
    "\n",
    "train_set = keras.utils.image_dataset_from_directory('images/train',\n",
    "    image_size = (image_size,image_size),\n",
    "    color_mode = \"grayscale\",\n",
    "    batch_size=batch_size,\n",
    "    class_names=emotion_labels,\n",
    "    label_mode='categorical',\n",
    "    shuffle=True)\n",
    "\n",
    "\n",
    "test_set = keras.utils.image_dataset_from_directory('images/validation',\n",
    "    image_size = (image_size,image_size),\n",
    "    color_mode = \"grayscale\",\n",
    "    batch_size=batch_size,\n",
    "    class_names=emotion_labels,\n",
    "    label_mode='categorical',\n",
    "    shuffle=False)"
   ]
  },
  {
   "cell_type": "markdown",
   "id": "18011892",
   "metadata": {
    "id": "nwv0iuDjGeHw",
    "papermill": {
     "duration": 0.013063,
     "end_time": "2024-04-16T14:23:02.131573",
     "exception": false,
     "start_time": "2024-04-16T14:23:02.118510",
     "status": "completed"
    },
    "tags": []
   },
   "source": [
    "The `build_model` function defines the architecture of the convolutional neural network (CNN) for facial expression recognition.\n",
    "\n",
    "- **Input layer**: Input layer\n",
    "\n",
    "- **Rescaling layer**: Rescaling layer to rescale image values from `[0, 255]` to `[0, 1]`\n",
    "\n",
    "- **1st Layer**: Convolutional layer with 64 filters of size (5, 5), ReLU activation, and batch normalization. MaxPooling and Dropout layers are added for regularization.\n",
    "\n",
    "- **2nd Layer**: Convolutional layer with 128 filters of size (3, 3), ReLU activation, and batch normalization. MaxPooling and Dropout layers are added for regularization.\n",
    "\n",
    "- **3rd Layer**: Convolutional layer with 512 filters of size (3, 3), ReLU activation, and batch normalization. MaxPooling and Dropout layers are added for regularization.\n",
    "\n",
    "- **4th Layer**: Convolutional layer with 512 filters of size (3, 3), ReLU activation, and batch normalization. MaxPooling and Dropout layers are added for regularization.\n",
    "\n",
    "- **Flatten Layer**: Flatten the output from the convolutional layers to be fed into the fully connected layers.\n",
    "\n",
    "- **Fully Connected Layer 1**: Dense layer with 256 units and ReLU activation, followed by batch normalization and dropout for regularization.\n",
    "\n",
    "- **Fully Connected Layer 2**: Dense layer with 512 units and ReLU activation, followed by batch normalization and dropout for regularization.\n",
    "\n",
    "- **Output Layer**: Dense layer with softmax activation for multi-class classification, with the number of units equal to the number of classes in the dataset.\n",
    "\n",
    "- **Compilation**: The model is compiled with the Adam optimizer, categorical cross-entropy loss function, and accuracy metric."
   ]
  },
  {
   "cell_type": "code",
   "execution_count": 55,
   "id": "42fba5b5",
   "metadata": {
    "execution": {
     "iopub.execute_input": "2024-04-16T14:23:02.157658Z",
     "iopub.status.busy": "2024-04-16T14:23:02.157092Z",
     "iopub.status.idle": "2024-04-16T14:23:02.168823Z",
     "shell.execute_reply": "2024-04-16T14:23:02.168036Z"
    },
    "id": "ebDumsoOjZJC",
    "papermill": {
     "duration": 0.026528,
     "end_time": "2024-04-16T14:23:02.170664",
     "exception": false,
     "start_time": "2024-04-16T14:23:02.144136",
     "status": "completed"
    },
    "tags": []
   },
   "outputs": [],
   "source": [
    "# Building Model\n",
    "def build_model():\n",
    "    model = keras.models.Sequential()\n",
    "    model.add(keras.layers.Input(shape=(48, 48, 1)))\n",
    "    model.add(keras.layers.Rescaling(1./255))\n",
    "    # 1st Layer\n",
    "    model.add(keras.layers.Conv2D(64, (5, 5), strides=(1, 1), padding='same', activation='relu'))\n",
    "    model.add(keras.layers.BatchNormalization())\n",
    "    model.add(keras.layers.MaxPooling2D(2, 2))\n",
    "    model.add(keras.layers.Dropout(0.3))\n",
    "\n",
    "    # 2nd Layer\n",
    "    model.add(keras.layers.Conv2D(128, (3, 3), strides=(1, 1), padding='same', activation='relu'))\n",
    "    model.add(keras.layers.BatchNormalization())\n",
    "    model.add(keras.layers.MaxPooling2D(2, 2))\n",
    "    model.add(keras.layers.Dropout(0.3))\n",
    "\n",
    "    # 3rd layer\n",
    "    model.add(keras.layers.Conv2D(512, (3, 3), strides=(1, 1), padding='same', activation='relu'))\n",
    "    model.add(keras.layers.BatchNormalization())\n",
    "    model.add(keras.layers.MaxPooling2D(2, 2))\n",
    "    model.add(keras.layers.Dropout(0.3))\n",
    "\n",
    "    # 4th layer\n",
    "    model.add(keras.layers.Conv2D(512, (3, 3), strides=(1, 1), padding='same', activation='relu'))\n",
    "    model.add(keras.layers.BatchNormalization())\n",
    "    model.add(keras.layers.MaxPooling2D(2, 2))\n",
    "    model.add(keras.layers.Dropout(0.3))\n",
    "\n",
    "    # Flatten Layer\n",
    "    model.add(keras.layers.Flatten())\n",
    "\n",
    "    # Fully connected layer 1\n",
    "    model.add(keras.layers.Dense(256, activation='relu'))\n",
    "    model.add(keras.layers.BatchNormalization())\n",
    "    model.add(keras.layers.Dropout(0.3))\n",
    "\n",
    "    # Fully connected layer 2\n",
    "    model.add(keras.layers.Dense(512, activation='relu'))\n",
    "    model.add(keras.layers.BatchNormalization())\n",
    "    model.add(keras.layers.Dropout(0.3))\n",
    "\n",
    "    # Output layer\n",
    "    model.add(keras.layers.Dense(len(emotion_labels), activation='softmax'))\n",
    "\n",
    "    # Compiling the model\n",
    "    model.compile(optimizer=keras.optimizers.Adam(learning_rate=0.001), loss='categorical_crossentropy', metrics=['accuracy'])\n",
    "\n",
    "    return model"
   ]
  },
  {
   "cell_type": "markdown",
   "id": "e5028121",
   "metadata": {
    "id": "I3CiJpP4GvHS",
    "papermill": {
     "duration": 0.011894,
     "end_time": "2024-04-16T14:23:02.194571",
     "exception": false,
     "start_time": "2024-04-16T14:23:02.182677",
     "status": "completed"
    },
    "tags": []
   },
   "source": [
    "The `summary()` method is called on the built model to display a summary of its architecture, including the layers, output shapes, and the number of trainable parameters."
   ]
  },
  {
   "cell_type": "code",
   "execution_count": 56,
   "id": "8ef7f5fc",
   "metadata": {
    "execution": {
     "iopub.execute_input": "2024-04-16T14:23:02.219937Z",
     "iopub.status.busy": "2024-04-16T14:23:02.219702Z",
     "iopub.status.idle": "2024-04-16T14:23:03.594892Z",
     "shell.execute_reply": "2024-04-16T14:23:03.594049Z"
    },
    "id": "St5xjbyDjjGq",
    "outputId": "07d1de3b-433f-46d9-da1c-4059271ff085",
    "papermill": {
     "duration": 1.390941,
     "end_time": "2024-04-16T14:23:03.597755",
     "exception": false,
     "start_time": "2024-04-16T14:23:02.206814",
     "status": "completed"
    },
    "tags": []
   },
   "outputs": [
    {
     "data": {
      "text/html": [
       "<pre style=\"white-space:pre;overflow-x:auto;line-height:normal;font-family:Menlo,'DejaVu Sans Mono',consolas,'Courier New',monospace\"><span style=\"font-weight: bold\">Model: \"sequential_11\"</span>\n",
       "</pre>\n"
      ],
      "text/plain": [
       "\u001b[1mModel: \"sequential_11\"\u001b[0m\n"
      ]
     },
     "metadata": {},
     "output_type": "display_data"
    },
    {
     "data": {
      "text/html": [
       "<pre style=\"white-space:pre;overflow-x:auto;line-height:normal;font-family:Menlo,'DejaVu Sans Mono',consolas,'Courier New',monospace\">┏━━━━━━━━━━━━━━━━━━━━━━━━━━━━━━━━━┳━━━━━━━━━━━━━━━━━━━━━━━━┳━━━━━━━━━━━━━━━┓\n",
       "┃<span style=\"font-weight: bold\"> Layer (type)                    </span>┃<span style=\"font-weight: bold\"> Output Shape           </span>┃<span style=\"font-weight: bold\">       Param # </span>┃\n",
       "┡━━━━━━━━━━━━━━━━━━━━━━━━━━━━━━━━━╇━━━━━━━━━━━━━━━━━━━━━━━━╇━━━━━━━━━━━━━━━┩\n",
       "│ rescaling_2 (<span style=\"color: #0087ff; text-decoration-color: #0087ff\">Rescaling</span>)         │ (<span style=\"color: #00d7ff; text-decoration-color: #00d7ff\">None</span>, <span style=\"color: #00af00; text-decoration-color: #00af00\">48</span>, <span style=\"color: #00af00; text-decoration-color: #00af00\">48</span>, <span style=\"color: #00af00; text-decoration-color: #00af00\">1</span>)      │             <span style=\"color: #00af00; text-decoration-color: #00af00\">0</span> │\n",
       "├─────────────────────────────────┼────────────────────────┼───────────────┤\n",
       "│ conv2d_12 (<span style=\"color: #0087ff; text-decoration-color: #0087ff\">Conv2D</span>)              │ (<span style=\"color: #00d7ff; text-decoration-color: #00d7ff\">None</span>, <span style=\"color: #00af00; text-decoration-color: #00af00\">48</span>, <span style=\"color: #00af00; text-decoration-color: #00af00\">48</span>, <span style=\"color: #00af00; text-decoration-color: #00af00\">64</span>)     │         <span style=\"color: #00af00; text-decoration-color: #00af00\">1,664</span> │\n",
       "├─────────────────────────────────┼────────────────────────┼───────────────┤\n",
       "│ batch_normalization_18          │ (<span style=\"color: #00d7ff; text-decoration-color: #00d7ff\">None</span>, <span style=\"color: #00af00; text-decoration-color: #00af00\">48</span>, <span style=\"color: #00af00; text-decoration-color: #00af00\">48</span>, <span style=\"color: #00af00; text-decoration-color: #00af00\">64</span>)     │           <span style=\"color: #00af00; text-decoration-color: #00af00\">256</span> │\n",
       "│ (<span style=\"color: #0087ff; text-decoration-color: #0087ff\">BatchNormalization</span>)            │                        │               │\n",
       "├─────────────────────────────────┼────────────────────────┼───────────────┤\n",
       "│ max_pooling2d_12 (<span style=\"color: #0087ff; text-decoration-color: #0087ff\">MaxPooling2D</span>) │ (<span style=\"color: #00d7ff; text-decoration-color: #00d7ff\">None</span>, <span style=\"color: #00af00; text-decoration-color: #00af00\">24</span>, <span style=\"color: #00af00; text-decoration-color: #00af00\">24</span>, <span style=\"color: #00af00; text-decoration-color: #00af00\">64</span>)     │             <span style=\"color: #00af00; text-decoration-color: #00af00\">0</span> │\n",
       "├─────────────────────────────────┼────────────────────────┼───────────────┤\n",
       "│ dropout_18 (<span style=\"color: #0087ff; text-decoration-color: #0087ff\">Dropout</span>)            │ (<span style=\"color: #00d7ff; text-decoration-color: #00d7ff\">None</span>, <span style=\"color: #00af00; text-decoration-color: #00af00\">24</span>, <span style=\"color: #00af00; text-decoration-color: #00af00\">24</span>, <span style=\"color: #00af00; text-decoration-color: #00af00\">64</span>)     │             <span style=\"color: #00af00; text-decoration-color: #00af00\">0</span> │\n",
       "├─────────────────────────────────┼────────────────────────┼───────────────┤\n",
       "│ conv2d_13 (<span style=\"color: #0087ff; text-decoration-color: #0087ff\">Conv2D</span>)              │ (<span style=\"color: #00d7ff; text-decoration-color: #00d7ff\">None</span>, <span style=\"color: #00af00; text-decoration-color: #00af00\">24</span>, <span style=\"color: #00af00; text-decoration-color: #00af00\">24</span>, <span style=\"color: #00af00; text-decoration-color: #00af00\">128</span>)    │        <span style=\"color: #00af00; text-decoration-color: #00af00\">73,856</span> │\n",
       "├─────────────────────────────────┼────────────────────────┼───────────────┤\n",
       "│ batch_normalization_19          │ (<span style=\"color: #00d7ff; text-decoration-color: #00d7ff\">None</span>, <span style=\"color: #00af00; text-decoration-color: #00af00\">24</span>, <span style=\"color: #00af00; text-decoration-color: #00af00\">24</span>, <span style=\"color: #00af00; text-decoration-color: #00af00\">128</span>)    │           <span style=\"color: #00af00; text-decoration-color: #00af00\">512</span> │\n",
       "│ (<span style=\"color: #0087ff; text-decoration-color: #0087ff\">BatchNormalization</span>)            │                        │               │\n",
       "├─────────────────────────────────┼────────────────────────┼───────────────┤\n",
       "│ max_pooling2d_13 (<span style=\"color: #0087ff; text-decoration-color: #0087ff\">MaxPooling2D</span>) │ (<span style=\"color: #00d7ff; text-decoration-color: #00d7ff\">None</span>, <span style=\"color: #00af00; text-decoration-color: #00af00\">12</span>, <span style=\"color: #00af00; text-decoration-color: #00af00\">12</span>, <span style=\"color: #00af00; text-decoration-color: #00af00\">128</span>)    │             <span style=\"color: #00af00; text-decoration-color: #00af00\">0</span> │\n",
       "├─────────────────────────────────┼────────────────────────┼───────────────┤\n",
       "│ dropout_19 (<span style=\"color: #0087ff; text-decoration-color: #0087ff\">Dropout</span>)            │ (<span style=\"color: #00d7ff; text-decoration-color: #00d7ff\">None</span>, <span style=\"color: #00af00; text-decoration-color: #00af00\">12</span>, <span style=\"color: #00af00; text-decoration-color: #00af00\">12</span>, <span style=\"color: #00af00; text-decoration-color: #00af00\">128</span>)    │             <span style=\"color: #00af00; text-decoration-color: #00af00\">0</span> │\n",
       "├─────────────────────────────────┼────────────────────────┼───────────────┤\n",
       "│ conv2d_14 (<span style=\"color: #0087ff; text-decoration-color: #0087ff\">Conv2D</span>)              │ (<span style=\"color: #00d7ff; text-decoration-color: #00d7ff\">None</span>, <span style=\"color: #00af00; text-decoration-color: #00af00\">12</span>, <span style=\"color: #00af00; text-decoration-color: #00af00\">12</span>, <span style=\"color: #00af00; text-decoration-color: #00af00\">512</span>)    │       <span style=\"color: #00af00; text-decoration-color: #00af00\">590,336</span> │\n",
       "├─────────────────────────────────┼────────────────────────┼───────────────┤\n",
       "│ batch_normalization_20          │ (<span style=\"color: #00d7ff; text-decoration-color: #00d7ff\">None</span>, <span style=\"color: #00af00; text-decoration-color: #00af00\">12</span>, <span style=\"color: #00af00; text-decoration-color: #00af00\">12</span>, <span style=\"color: #00af00; text-decoration-color: #00af00\">512</span>)    │         <span style=\"color: #00af00; text-decoration-color: #00af00\">2,048</span> │\n",
       "│ (<span style=\"color: #0087ff; text-decoration-color: #0087ff\">BatchNormalization</span>)            │                        │               │\n",
       "├─────────────────────────────────┼────────────────────────┼───────────────┤\n",
       "│ max_pooling2d_14 (<span style=\"color: #0087ff; text-decoration-color: #0087ff\">MaxPooling2D</span>) │ (<span style=\"color: #00d7ff; text-decoration-color: #00d7ff\">None</span>, <span style=\"color: #00af00; text-decoration-color: #00af00\">6</span>, <span style=\"color: #00af00; text-decoration-color: #00af00\">6</span>, <span style=\"color: #00af00; text-decoration-color: #00af00\">512</span>)      │             <span style=\"color: #00af00; text-decoration-color: #00af00\">0</span> │\n",
       "├─────────────────────────────────┼────────────────────────┼───────────────┤\n",
       "│ dropout_20 (<span style=\"color: #0087ff; text-decoration-color: #0087ff\">Dropout</span>)            │ (<span style=\"color: #00d7ff; text-decoration-color: #00d7ff\">None</span>, <span style=\"color: #00af00; text-decoration-color: #00af00\">6</span>, <span style=\"color: #00af00; text-decoration-color: #00af00\">6</span>, <span style=\"color: #00af00; text-decoration-color: #00af00\">512</span>)      │             <span style=\"color: #00af00; text-decoration-color: #00af00\">0</span> │\n",
       "├─────────────────────────────────┼────────────────────────┼───────────────┤\n",
       "│ conv2d_15 (<span style=\"color: #0087ff; text-decoration-color: #0087ff\">Conv2D</span>)              │ (<span style=\"color: #00d7ff; text-decoration-color: #00d7ff\">None</span>, <span style=\"color: #00af00; text-decoration-color: #00af00\">6</span>, <span style=\"color: #00af00; text-decoration-color: #00af00\">6</span>, <span style=\"color: #00af00; text-decoration-color: #00af00\">512</span>)      │     <span style=\"color: #00af00; text-decoration-color: #00af00\">2,359,808</span> │\n",
       "├─────────────────────────────────┼────────────────────────┼───────────────┤\n",
       "│ batch_normalization_21          │ (<span style=\"color: #00d7ff; text-decoration-color: #00d7ff\">None</span>, <span style=\"color: #00af00; text-decoration-color: #00af00\">6</span>, <span style=\"color: #00af00; text-decoration-color: #00af00\">6</span>, <span style=\"color: #00af00; text-decoration-color: #00af00\">512</span>)      │         <span style=\"color: #00af00; text-decoration-color: #00af00\">2,048</span> │\n",
       "│ (<span style=\"color: #0087ff; text-decoration-color: #0087ff\">BatchNormalization</span>)            │                        │               │\n",
       "├─────────────────────────────────┼────────────────────────┼───────────────┤\n",
       "│ max_pooling2d_15 (<span style=\"color: #0087ff; text-decoration-color: #0087ff\">MaxPooling2D</span>) │ (<span style=\"color: #00d7ff; text-decoration-color: #00d7ff\">None</span>, <span style=\"color: #00af00; text-decoration-color: #00af00\">3</span>, <span style=\"color: #00af00; text-decoration-color: #00af00\">3</span>, <span style=\"color: #00af00; text-decoration-color: #00af00\">512</span>)      │             <span style=\"color: #00af00; text-decoration-color: #00af00\">0</span> │\n",
       "├─────────────────────────────────┼────────────────────────┼───────────────┤\n",
       "│ dropout_21 (<span style=\"color: #0087ff; text-decoration-color: #0087ff\">Dropout</span>)            │ (<span style=\"color: #00d7ff; text-decoration-color: #00d7ff\">None</span>, <span style=\"color: #00af00; text-decoration-color: #00af00\">3</span>, <span style=\"color: #00af00; text-decoration-color: #00af00\">3</span>, <span style=\"color: #00af00; text-decoration-color: #00af00\">512</span>)      │             <span style=\"color: #00af00; text-decoration-color: #00af00\">0</span> │\n",
       "├─────────────────────────────────┼────────────────────────┼───────────────┤\n",
       "│ flatten_3 (<span style=\"color: #0087ff; text-decoration-color: #0087ff\">Flatten</span>)             │ (<span style=\"color: #00d7ff; text-decoration-color: #00d7ff\">None</span>, <span style=\"color: #00af00; text-decoration-color: #00af00\">4608</span>)           │             <span style=\"color: #00af00; text-decoration-color: #00af00\">0</span> │\n",
       "├─────────────────────────────────┼────────────────────────┼───────────────┤\n",
       "│ dense_9 (<span style=\"color: #0087ff; text-decoration-color: #0087ff\">Dense</span>)                 │ (<span style=\"color: #00d7ff; text-decoration-color: #00d7ff\">None</span>, <span style=\"color: #00af00; text-decoration-color: #00af00\">256</span>)            │     <span style=\"color: #00af00; text-decoration-color: #00af00\">1,179,904</span> │\n",
       "├─────────────────────────────────┼────────────────────────┼───────────────┤\n",
       "│ batch_normalization_22          │ (<span style=\"color: #00d7ff; text-decoration-color: #00d7ff\">None</span>, <span style=\"color: #00af00; text-decoration-color: #00af00\">256</span>)            │         <span style=\"color: #00af00; text-decoration-color: #00af00\">1,024</span> │\n",
       "│ (<span style=\"color: #0087ff; text-decoration-color: #0087ff\">BatchNormalization</span>)            │                        │               │\n",
       "├─────────────────────────────────┼────────────────────────┼───────────────┤\n",
       "│ dropout_22 (<span style=\"color: #0087ff; text-decoration-color: #0087ff\">Dropout</span>)            │ (<span style=\"color: #00d7ff; text-decoration-color: #00d7ff\">None</span>, <span style=\"color: #00af00; text-decoration-color: #00af00\">256</span>)            │             <span style=\"color: #00af00; text-decoration-color: #00af00\">0</span> │\n",
       "├─────────────────────────────────┼────────────────────────┼───────────────┤\n",
       "│ dense_10 (<span style=\"color: #0087ff; text-decoration-color: #0087ff\">Dense</span>)                │ (<span style=\"color: #00d7ff; text-decoration-color: #00d7ff\">None</span>, <span style=\"color: #00af00; text-decoration-color: #00af00\">512</span>)            │       <span style=\"color: #00af00; text-decoration-color: #00af00\">131,584</span> │\n",
       "├─────────────────────────────────┼────────────────────────┼───────────────┤\n",
       "│ batch_normalization_23          │ (<span style=\"color: #00d7ff; text-decoration-color: #00d7ff\">None</span>, <span style=\"color: #00af00; text-decoration-color: #00af00\">512</span>)            │         <span style=\"color: #00af00; text-decoration-color: #00af00\">2,048</span> │\n",
       "│ (<span style=\"color: #0087ff; text-decoration-color: #0087ff\">BatchNormalization</span>)            │                        │               │\n",
       "├─────────────────────────────────┼────────────────────────┼───────────────┤\n",
       "│ dropout_23 (<span style=\"color: #0087ff; text-decoration-color: #0087ff\">Dropout</span>)            │ (<span style=\"color: #00d7ff; text-decoration-color: #00d7ff\">None</span>, <span style=\"color: #00af00; text-decoration-color: #00af00\">512</span>)            │             <span style=\"color: #00af00; text-decoration-color: #00af00\">0</span> │\n",
       "├─────────────────────────────────┼────────────────────────┼───────────────┤\n",
       "│ dense_11 (<span style=\"color: #0087ff; text-decoration-color: #0087ff\">Dense</span>)                │ (<span style=\"color: #00d7ff; text-decoration-color: #00d7ff\">None</span>, <span style=\"color: #00af00; text-decoration-color: #00af00\">7</span>)              │         <span style=\"color: #00af00; text-decoration-color: #00af00\">3,591</span> │\n",
       "└─────────────────────────────────┴────────────────────────┴───────────────┘\n",
       "</pre>\n"
      ],
      "text/plain": [
       "┏━━━━━━━━━━━━━━━━━━━━━━━━━━━━━━━━━┳━━━━━━━━━━━━━━━━━━━━━━━━┳━━━━━━━━━━━━━━━┓\n",
       "┃\u001b[1m \u001b[0m\u001b[1mLayer (type)                   \u001b[0m\u001b[1m \u001b[0m┃\u001b[1m \u001b[0m\u001b[1mOutput Shape          \u001b[0m\u001b[1m \u001b[0m┃\u001b[1m \u001b[0m\u001b[1m      Param #\u001b[0m\u001b[1m \u001b[0m┃\n",
       "┡━━━━━━━━━━━━━━━━━━━━━━━━━━━━━━━━━╇━━━━━━━━━━━━━━━━━━━━━━━━╇━━━━━━━━━━━━━━━┩\n",
       "│ rescaling_2 (\u001b[38;5;33mRescaling\u001b[0m)         │ (\u001b[38;5;45mNone\u001b[0m, \u001b[38;5;34m48\u001b[0m, \u001b[38;5;34m48\u001b[0m, \u001b[38;5;34m1\u001b[0m)      │             \u001b[38;5;34m0\u001b[0m │\n",
       "├─────────────────────────────────┼────────────────────────┼───────────────┤\n",
       "│ conv2d_12 (\u001b[38;5;33mConv2D\u001b[0m)              │ (\u001b[38;5;45mNone\u001b[0m, \u001b[38;5;34m48\u001b[0m, \u001b[38;5;34m48\u001b[0m, \u001b[38;5;34m64\u001b[0m)     │         \u001b[38;5;34m1,664\u001b[0m │\n",
       "├─────────────────────────────────┼────────────────────────┼───────────────┤\n",
       "│ batch_normalization_18          │ (\u001b[38;5;45mNone\u001b[0m, \u001b[38;5;34m48\u001b[0m, \u001b[38;5;34m48\u001b[0m, \u001b[38;5;34m64\u001b[0m)     │           \u001b[38;5;34m256\u001b[0m │\n",
       "│ (\u001b[38;5;33mBatchNormalization\u001b[0m)            │                        │               │\n",
       "├─────────────────────────────────┼────────────────────────┼───────────────┤\n",
       "│ max_pooling2d_12 (\u001b[38;5;33mMaxPooling2D\u001b[0m) │ (\u001b[38;5;45mNone\u001b[0m, \u001b[38;5;34m24\u001b[0m, \u001b[38;5;34m24\u001b[0m, \u001b[38;5;34m64\u001b[0m)     │             \u001b[38;5;34m0\u001b[0m │\n",
       "├─────────────────────────────────┼────────────────────────┼───────────────┤\n",
       "│ dropout_18 (\u001b[38;5;33mDropout\u001b[0m)            │ (\u001b[38;5;45mNone\u001b[0m, \u001b[38;5;34m24\u001b[0m, \u001b[38;5;34m24\u001b[0m, \u001b[38;5;34m64\u001b[0m)     │             \u001b[38;5;34m0\u001b[0m │\n",
       "├─────────────────────────────────┼────────────────────────┼───────────────┤\n",
       "│ conv2d_13 (\u001b[38;5;33mConv2D\u001b[0m)              │ (\u001b[38;5;45mNone\u001b[0m, \u001b[38;5;34m24\u001b[0m, \u001b[38;5;34m24\u001b[0m, \u001b[38;5;34m128\u001b[0m)    │        \u001b[38;5;34m73,856\u001b[0m │\n",
       "├─────────────────────────────────┼────────────────────────┼───────────────┤\n",
       "│ batch_normalization_19          │ (\u001b[38;5;45mNone\u001b[0m, \u001b[38;5;34m24\u001b[0m, \u001b[38;5;34m24\u001b[0m, \u001b[38;5;34m128\u001b[0m)    │           \u001b[38;5;34m512\u001b[0m │\n",
       "│ (\u001b[38;5;33mBatchNormalization\u001b[0m)            │                        │               │\n",
       "├─────────────────────────────────┼────────────────────────┼───────────────┤\n",
       "│ max_pooling2d_13 (\u001b[38;5;33mMaxPooling2D\u001b[0m) │ (\u001b[38;5;45mNone\u001b[0m, \u001b[38;5;34m12\u001b[0m, \u001b[38;5;34m12\u001b[0m, \u001b[38;5;34m128\u001b[0m)    │             \u001b[38;5;34m0\u001b[0m │\n",
       "├─────────────────────────────────┼────────────────────────┼───────────────┤\n",
       "│ dropout_19 (\u001b[38;5;33mDropout\u001b[0m)            │ (\u001b[38;5;45mNone\u001b[0m, \u001b[38;5;34m12\u001b[0m, \u001b[38;5;34m12\u001b[0m, \u001b[38;5;34m128\u001b[0m)    │             \u001b[38;5;34m0\u001b[0m │\n",
       "├─────────────────────────────────┼────────────────────────┼───────────────┤\n",
       "│ conv2d_14 (\u001b[38;5;33mConv2D\u001b[0m)              │ (\u001b[38;5;45mNone\u001b[0m, \u001b[38;5;34m12\u001b[0m, \u001b[38;5;34m12\u001b[0m, \u001b[38;5;34m512\u001b[0m)    │       \u001b[38;5;34m590,336\u001b[0m │\n",
       "├─────────────────────────────────┼────────────────────────┼───────────────┤\n",
       "│ batch_normalization_20          │ (\u001b[38;5;45mNone\u001b[0m, \u001b[38;5;34m12\u001b[0m, \u001b[38;5;34m12\u001b[0m, \u001b[38;5;34m512\u001b[0m)    │         \u001b[38;5;34m2,048\u001b[0m │\n",
       "│ (\u001b[38;5;33mBatchNormalization\u001b[0m)            │                        │               │\n",
       "├─────────────────────────────────┼────────────────────────┼───────────────┤\n",
       "│ max_pooling2d_14 (\u001b[38;5;33mMaxPooling2D\u001b[0m) │ (\u001b[38;5;45mNone\u001b[0m, \u001b[38;5;34m6\u001b[0m, \u001b[38;5;34m6\u001b[0m, \u001b[38;5;34m512\u001b[0m)      │             \u001b[38;5;34m0\u001b[0m │\n",
       "├─────────────────────────────────┼────────────────────────┼───────────────┤\n",
       "│ dropout_20 (\u001b[38;5;33mDropout\u001b[0m)            │ (\u001b[38;5;45mNone\u001b[0m, \u001b[38;5;34m6\u001b[0m, \u001b[38;5;34m6\u001b[0m, \u001b[38;5;34m512\u001b[0m)      │             \u001b[38;5;34m0\u001b[0m │\n",
       "├─────────────────────────────────┼────────────────────────┼───────────────┤\n",
       "│ conv2d_15 (\u001b[38;5;33mConv2D\u001b[0m)              │ (\u001b[38;5;45mNone\u001b[0m, \u001b[38;5;34m6\u001b[0m, \u001b[38;5;34m6\u001b[0m, \u001b[38;5;34m512\u001b[0m)      │     \u001b[38;5;34m2,359,808\u001b[0m │\n",
       "├─────────────────────────────────┼────────────────────────┼───────────────┤\n",
       "│ batch_normalization_21          │ (\u001b[38;5;45mNone\u001b[0m, \u001b[38;5;34m6\u001b[0m, \u001b[38;5;34m6\u001b[0m, \u001b[38;5;34m512\u001b[0m)      │         \u001b[38;5;34m2,048\u001b[0m │\n",
       "│ (\u001b[38;5;33mBatchNormalization\u001b[0m)            │                        │               │\n",
       "├─────────────────────────────────┼────────────────────────┼───────────────┤\n",
       "│ max_pooling2d_15 (\u001b[38;5;33mMaxPooling2D\u001b[0m) │ (\u001b[38;5;45mNone\u001b[0m, \u001b[38;5;34m3\u001b[0m, \u001b[38;5;34m3\u001b[0m, \u001b[38;5;34m512\u001b[0m)      │             \u001b[38;5;34m0\u001b[0m │\n",
       "├─────────────────────────────────┼────────────────────────┼───────────────┤\n",
       "│ dropout_21 (\u001b[38;5;33mDropout\u001b[0m)            │ (\u001b[38;5;45mNone\u001b[0m, \u001b[38;5;34m3\u001b[0m, \u001b[38;5;34m3\u001b[0m, \u001b[38;5;34m512\u001b[0m)      │             \u001b[38;5;34m0\u001b[0m │\n",
       "├─────────────────────────────────┼────────────────────────┼───────────────┤\n",
       "│ flatten_3 (\u001b[38;5;33mFlatten\u001b[0m)             │ (\u001b[38;5;45mNone\u001b[0m, \u001b[38;5;34m4608\u001b[0m)           │             \u001b[38;5;34m0\u001b[0m │\n",
       "├─────────────────────────────────┼────────────────────────┼───────────────┤\n",
       "│ dense_9 (\u001b[38;5;33mDense\u001b[0m)                 │ (\u001b[38;5;45mNone\u001b[0m, \u001b[38;5;34m256\u001b[0m)            │     \u001b[38;5;34m1,179,904\u001b[0m │\n",
       "├─────────────────────────────────┼────────────────────────┼───────────────┤\n",
       "│ batch_normalization_22          │ (\u001b[38;5;45mNone\u001b[0m, \u001b[38;5;34m256\u001b[0m)            │         \u001b[38;5;34m1,024\u001b[0m │\n",
       "│ (\u001b[38;5;33mBatchNormalization\u001b[0m)            │                        │               │\n",
       "├─────────────────────────────────┼────────────────────────┼───────────────┤\n",
       "│ dropout_22 (\u001b[38;5;33mDropout\u001b[0m)            │ (\u001b[38;5;45mNone\u001b[0m, \u001b[38;5;34m256\u001b[0m)            │             \u001b[38;5;34m0\u001b[0m │\n",
       "├─────────────────────────────────┼────────────────────────┼───────────────┤\n",
       "│ dense_10 (\u001b[38;5;33mDense\u001b[0m)                │ (\u001b[38;5;45mNone\u001b[0m, \u001b[38;5;34m512\u001b[0m)            │       \u001b[38;5;34m131,584\u001b[0m │\n",
       "├─────────────────────────────────┼────────────────────────┼───────────────┤\n",
       "│ batch_normalization_23          │ (\u001b[38;5;45mNone\u001b[0m, \u001b[38;5;34m512\u001b[0m)            │         \u001b[38;5;34m2,048\u001b[0m │\n",
       "│ (\u001b[38;5;33mBatchNormalization\u001b[0m)            │                        │               │\n",
       "├─────────────────────────────────┼────────────────────────┼───────────────┤\n",
       "│ dropout_23 (\u001b[38;5;33mDropout\u001b[0m)            │ (\u001b[38;5;45mNone\u001b[0m, \u001b[38;5;34m512\u001b[0m)            │             \u001b[38;5;34m0\u001b[0m │\n",
       "├─────────────────────────────────┼────────────────────────┼───────────────┤\n",
       "│ dense_11 (\u001b[38;5;33mDense\u001b[0m)                │ (\u001b[38;5;45mNone\u001b[0m, \u001b[38;5;34m7\u001b[0m)              │         \u001b[38;5;34m3,591\u001b[0m │\n",
       "└─────────────────────────────────┴────────────────────────┴───────────────┘\n"
      ]
     },
     "metadata": {},
     "output_type": "display_data"
    },
    {
     "data": {
      "text/html": [
       "<pre style=\"white-space:pre;overflow-x:auto;line-height:normal;font-family:Menlo,'DejaVu Sans Mono',consolas,'Courier New',monospace\"><span style=\"font-weight: bold\"> Total params: </span><span style=\"color: #00af00; text-decoration-color: #00af00\">4,348,679</span> (16.59 MB)\n",
       "</pre>\n"
      ],
      "text/plain": [
       "\u001b[1m Total params: \u001b[0m\u001b[38;5;34m4,348,679\u001b[0m (16.59 MB)\n"
      ]
     },
     "metadata": {},
     "output_type": "display_data"
    },
    {
     "data": {
      "text/html": [
       "<pre style=\"white-space:pre;overflow-x:auto;line-height:normal;font-family:Menlo,'DejaVu Sans Mono',consolas,'Courier New',monospace\"><span style=\"font-weight: bold\"> Trainable params: </span><span style=\"color: #00af00; text-decoration-color: #00af00\">4,344,711</span> (16.57 MB)\n",
       "</pre>\n"
      ],
      "text/plain": [
       "\u001b[1m Trainable params: \u001b[0m\u001b[38;5;34m4,344,711\u001b[0m (16.57 MB)\n"
      ]
     },
     "metadata": {},
     "output_type": "display_data"
    },
    {
     "data": {
      "text/html": [
       "<pre style=\"white-space:pre;overflow-x:auto;line-height:normal;font-family:Menlo,'DejaVu Sans Mono',consolas,'Courier New',monospace\"><span style=\"font-weight: bold\"> Non-trainable params: </span><span style=\"color: #00af00; text-decoration-color: #00af00\">3,968</span> (15.50 KB)\n",
       "</pre>\n"
      ],
      "text/plain": [
       "\u001b[1m Non-trainable params: \u001b[0m\u001b[38;5;34m3,968\u001b[0m (15.50 KB)\n"
      ]
     },
     "metadata": {},
     "output_type": "display_data"
    },
    {
     "name": "stdout",
     "output_type": "stream",
     "text": [
      "None\n"
     ]
    }
   ],
   "source": [
    "# Build the model\n",
    "model = build_model()\n",
    "\n",
    "# Print model summary\n",
    "print(model.summary())"
   ]
  },
  {
   "cell_type": "markdown",
   "id": "7d7a2d33",
   "metadata": {
    "id": "wLTQrJYkG_Tg",
    "papermill": {
     "duration": 0.013004,
     "end_time": "2024-04-16T14:23:03.624464",
     "exception": false,
     "start_time": "2024-04-16T14:23:03.611460",
     "status": "completed"
    },
    "tags": []
   },
   "source": [
    "The `ModelCheckpoint` callback is initialized to save the model weights during training. It monitors the validation accuracy (`val_acc`) and saves only the best model (determined by the maximum validation accuracy) to the specified file `\"model.h5\"`."
   ]
  },
  {
   "cell_type": "code",
   "execution_count": 31,
   "id": "e5983664",
   "metadata": {
    "execution": {
     "iopub.execute_input": "2024-04-16T14:23:03.651834Z",
     "iopub.status.busy": "2024-04-16T14:23:03.651567Z",
     "iopub.status.idle": "2024-04-16T14:23:03.655897Z",
     "shell.execute_reply": "2024-04-16T14:23:03.655028Z"
    },
    "id": "M-smbpQKkVV7",
    "papermill": {
     "duration": 0.020313,
     "end_time": "2024-04-16T14:23:03.657822",
     "exception": false,
     "start_time": "2024-04-16T14:23:03.637509",
     "status": "completed"
    },
    "tags": []
   },
   "outputs": [],
   "source": [
    "# Initialize ModelCheckpoint callback\n",
    "# checkpoint = ModelCheckpoint(\"model.h5\", monitor=\"val_acc\", verbose=1, save_best_only=True)\n",
    "# Initialize ModelCheckpoint callback\n",
    "checkpoint = keras.callbacks.ModelCheckpoint(\"model.keras\", monitor=\"val_acc\", verbose=1, save_best_only=True)"
   ]
  },
  {
   "cell_type": "markdown",
   "id": "4ea1cd27",
   "metadata": {
    "id": "oBiZw1EpHkFv",
    "papermill": {
     "duration": 0.012774,
     "end_time": "2024-04-16T14:23:03.683770",
     "exception": false,
     "start_time": "2024-04-16T14:23:03.670996",
     "status": "completed"
    },
    "tags": []
   },
   "source": [
    "The `EarlyStopping` callback is initialized to monitor the validation loss (`val_loss`). It stops the training process if the validation loss does not improve for a certain number of epochs (`patience`) specified by the user. The training is stopped early to prevent overfitting, and the weights of the best performing model are restored (`restore_best_weights=True`)."
   ]
  },
  {
   "cell_type": "code",
   "execution_count": 32,
   "id": "07970f7b",
   "metadata": {
    "execution": {
     "iopub.execute_input": "2024-04-16T14:23:03.710851Z",
     "iopub.status.busy": "2024-04-16T14:23:03.710579Z",
     "iopub.status.idle": "2024-04-16T14:23:03.714763Z",
     "shell.execute_reply": "2024-04-16T14:23:03.713956Z"
    },
    "id": "zuArFO2GkbKM",
    "papermill": {
     "duration": 0.019975,
     "end_time": "2024-04-16T14:23:03.716657",
     "exception": false,
     "start_time": "2024-04-16T14:23:03.696682",
     "status": "completed"
    },
    "tags": []
   },
   "outputs": [],
   "source": [
    "# Initialize EarlyStopping callback\n",
    "early_stopping = keras.callbacks.EarlyStopping(\n",
    "    monitor='val_loss',\n",
    "    min_delta=0,\n",
    "    patience=3,\n",
    "    verbose=1,\n",
    "    restore_best_weights=True\n",
    ")"
   ]
  },
  {
   "cell_type": "markdown",
   "id": "05bd7bc6",
   "metadata": {
    "id": "RTAehL6DHvym",
    "papermill": {
     "duration": 0.0129,
     "end_time": "2024-04-16T14:23:03.742757",
     "exception": false,
     "start_time": "2024-04-16T14:23:03.729857",
     "status": "completed"
    },
    "tags": []
   },
   "source": [
    "The `ReduceLROnPlateau` callback is initialized to dynamically adjust the learning rate during training based on the validation loss (`val_loss`). If the validation loss does not improve for a certain number of epochs (`patience`), the learning rate is reduced by a factor specified by the user (`factor`). This helps improve the training process and prevent the model from getting stuck in local minima."
   ]
  },
  {
   "cell_type": "code",
   "execution_count": 9,
   "id": "bc91bf46",
   "metadata": {
    "execution": {
     "iopub.execute_input": "2024-04-16T14:23:03.770000Z",
     "iopub.status.busy": "2024-04-16T14:23:03.769741Z",
     "iopub.status.idle": "2024-04-16T14:23:03.773849Z",
     "shell.execute_reply": "2024-04-16T14:23:03.773025Z"
    },
    "id": "FcWqpIDfkdkh",
    "papermill": {
     "duration": 0.01988,
     "end_time": "2024-04-16T14:23:03.775714",
     "exception": false,
     "start_time": "2024-04-16T14:23:03.755834",
     "status": "completed"
    },
    "tags": []
   },
   "outputs": [],
   "source": [
    "# Initialize ReduceLROnPlateau callback\n",
    "reduce_learningrate = keras.callbacks.ReduceLROnPlateau(\n",
    "    monitor='val_loss',\n",
    "    factor=0.2,\n",
    "    patience=3,\n",
    "    verbose=1,\n",
    "    min_delta=0.0001\n",
    ")"
   ]
  },
  {
   "cell_type": "markdown",
   "id": "d8569934",
   "metadata": {
    "id": "tJwx_MScH6Vh",
    "papermill": {
     "duration": 0.01316,
     "end_time": "2024-04-16T14:23:03.802206",
     "exception": false,
     "start_time": "2024-04-16T14:23:03.789046",
     "status": "completed"
    },
    "tags": []
   },
   "source": [
    "The `callbacks_list` is a list containing the callbacks to be used during the training of the model. It includes the `EarlyStopping`, `ModelCheckpoint`, and `ReduceLROnPlateau` callbacks, which are used to monitor the validation loss, save the best model, and adjust the learning rate, respectively.\n"
   ]
  },
  {
   "cell_type": "code",
   "execution_count": 10,
   "id": "f9cc1aa9",
   "metadata": {
    "execution": {
     "iopub.execute_input": "2024-04-16T14:23:03.830595Z",
     "iopub.status.busy": "2024-04-16T14:23:03.830330Z",
     "iopub.status.idle": "2024-04-16T14:23:03.834146Z",
     "shell.execute_reply": "2024-04-16T14:23:03.833326Z"
    },
    "id": "hkFIZipIkgA_",
    "papermill": {
     "duration": 0.020489,
     "end_time": "2024-04-16T14:23:03.835979",
     "exception": false,
     "start_time": "2024-04-16T14:23:03.815490",
     "status": "completed"
    },
    "tags": []
   },
   "outputs": [],
   "source": [
    "# List of callbacks\n",
    "callbacks_list = [early_stopping, checkpoint, reduce_learningrate]"
   ]
  },
  {
   "cell_type": "markdown",
   "id": "9a5d0d13",
   "metadata": {
    "id": "22-FfpcpIJX8",
    "papermill": {
     "duration": 0.013027,
     "end_time": "2024-04-16T14:23:03.862100",
     "exception": false,
     "start_time": "2024-04-16T14:23:03.849073",
     "status": "completed"
    },
    "tags": []
   },
   "source": [
    "The `compile()` method is called on the model to configure the training process. It specifies the loss function, optimizer, and evaluation metrics to be used during training.\n",
    "\n",
    "- **Loss Function**: Categorical cross-entropy is used as the loss function for multi-class classification problems.\n",
    "- **Optimizer**: Adam optimizer is chosen with a learning rate of 0.001.\n",
    "- **Metrics**: Accuracy is used as the evaluation metric to monitor the performance of the model during training."
   ]
  },
  {
   "cell_type": "code",
   "execution_count": 57,
   "id": "39319d4a",
   "metadata": {
    "execution": {
     "iopub.execute_input": "2024-04-16T14:23:03.889603Z",
     "iopub.status.busy": "2024-04-16T14:23:03.889340Z",
     "iopub.status.idle": "2024-04-16T14:23:03.896962Z",
     "shell.execute_reply": "2024-04-16T14:23:03.896259Z"
    },
    "id": "_DgH_tueki6T",
    "papermill": {
     "duration": 0.023398,
     "end_time": "2024-04-16T14:23:03.898806",
     "exception": false,
     "start_time": "2024-04-16T14:23:03.875408",
     "status": "completed"
    },
    "tags": []
   },
   "outputs": [],
   "source": [
    "# Compile the model\n",
    "model.compile(\n",
    "    loss='categorical_crossentropy',\n",
    "    optimizer=keras.optimizers.Adam(learning_rate=0.001),\n",
    "    metrics=['accuracy']\n",
    ")"
   ]
  },
  {
   "cell_type": "markdown",
   "id": "af7413da",
   "metadata": {
    "id": "WacGYPD5IlBk",
    "papermill": {
     "duration": 0.015655,
     "end_time": "2024-04-16T14:23:03.928966",
     "exception": false,
     "start_time": "2024-04-16T14:23:03.913311",
     "status": "completed"
    },
    "tags": []
   },
   "source": [
    "The `fit()` method is called on the model to train it on the training data. It takes the following parameters:\n",
    "\n",
    "- `data_gen.flow(X_train, y_train_categorical, batch_size=128)`: A generator that yields batches of augmented training data. Data augmentation is applied on-the-fly using the `ImageDataGenerator` object defined earlier.\n",
    "- `validation_data=(X_val, y_val_categorical)`: Validation data to evaluate the model's performance after each epoch.\n",
    "- `epochs=50`: The number of epochs to train the model.\n",
    "- `verbose=1`: Specifies the verbosity mode. Here, it prints progress bars during training."
   ]
  },
  {
   "cell_type": "code",
   "execution_count": 58,
   "id": "c0169029",
   "metadata": {
    "execution": {
     "iopub.execute_input": "2024-04-16T14:23:03.959969Z",
     "iopub.status.busy": "2024-04-16T14:23:03.959710Z",
     "iopub.status.idle": "2024-04-16T14:34:14.022822Z",
     "shell.execute_reply": "2024-04-16T14:34:14.021687Z"
    },
    "id": "5kzrbdyx_UqG",
    "papermill": {
     "duration": 670.080244,
     "end_time": "2024-04-16T14:34:14.025165",
     "exception": false,
     "start_time": "2024-04-16T14:23:03.944921",
     "status": "completed"
    },
    "tags": []
   },
   "outputs": [
    {
     "name": "stdout",
     "output_type": "stream",
     "text": [
      "Epoch 1/50\n"
     ]
    },
    {
     "name": "stderr",
     "output_type": "stream",
     "text": [
      "2024-05-31 14:43:32.218633: W external/local_tsl/tsl/framework/cpu_allocator_impl.cc:83] Allocation of 75497472 exceeds 10% of free system memory.\n",
      "2024-05-31 14:43:32.305499: W external/local_tsl/tsl/framework/cpu_allocator_impl.cc:83] Allocation of 75497472 exceeds 10% of free system memory.\n",
      "2024-05-31 14:43:32.329384: W external/local_tsl/tsl/framework/cpu_allocator_impl.cc:83] Allocation of 75497472 exceeds 10% of free system memory.\n"
     ]
    },
    {
     "name": "stdout",
     "output_type": "stream",
     "text": [
      "\u001b[1m  1/226\u001b[0m \u001b[37m━━━━━━━━━━━━━━━━━━━━\u001b[0m \u001b[1m26:45\u001b[0m 7s/step - accuracy: 0.1094 - loss: 2.8002"
     ]
    },
    {
     "name": "stderr",
     "output_type": "stream",
     "text": [
      "2024-05-31 14:43:34.673121: W external/local_tsl/tsl/framework/cpu_allocator_impl.cc:83] Allocation of 75497472 exceeds 10% of free system memory.\n",
      "2024-05-31 14:43:34.673253: W external/local_tsl/tsl/framework/cpu_allocator_impl.cc:83] Allocation of 75497472 exceeds 10% of free system memory.\n"
     ]
    },
    {
     "name": "stdout",
     "output_type": "stream",
     "text": [
      "\u001b[1m226/226\u001b[0m \u001b[32m━━━━━━━━━━━━━━━━━━━━\u001b[0m\u001b[37m\u001b[0m \u001b[1m354s\u001b[0m 2s/step - accuracy: 0.2169 - loss: 2.2941 - val_accuracy: 0.1371 - val_loss: 2.9800 - learning_rate: 0.0010\n",
      "Epoch 2/50\n"
     ]
    },
    {
     "name": "stderr",
     "output_type": "stream",
     "text": [
      "/home/linus/dev/web/aea/env/lib/python3.12/site-packages/keras/src/callbacks/model_checkpoint.py:206: UserWarning: Can save best model only with val_acc available, skipping.\n",
      "  self._save_model(epoch=epoch, batch=None, logs=logs)\n"
     ]
    },
    {
     "name": "stdout",
     "output_type": "stream",
     "text": [
      "\u001b[1m226/226\u001b[0m \u001b[32m━━━━━━━━━━━━━━━━━━━━\u001b[0m\u001b[37m\u001b[0m \u001b[1m344s\u001b[0m 2s/step - accuracy: 0.3617 - loss: 1.6867 - val_accuracy: 0.2869 - val_loss: 1.7628 - learning_rate: 0.0010\n",
      "Epoch 3/50\n",
      "\u001b[1m226/226\u001b[0m \u001b[32m━━━━━━━━━━━━━━━━━━━━\u001b[0m\u001b[37m\u001b[0m \u001b[1m321s\u001b[0m 1s/step - accuracy: 0.4317 - loss: 1.4766 - val_accuracy: 0.4302 - val_loss: 1.4547 - learning_rate: 0.0010\n",
      "Epoch 4/50\n",
      "\u001b[1m226/226\u001b[0m \u001b[32m━━━━━━━━━━━━━━━━━━━━\u001b[0m\u001b[37m\u001b[0m \u001b[1m308s\u001b[0m 1s/step - accuracy: 0.4784 - loss: 1.3618 - val_accuracy: 0.4413 - val_loss: 1.6129 - learning_rate: 0.0010\n",
      "Epoch 5/50\n",
      "\u001b[1m226/226\u001b[0m \u001b[32m━━━━━━━━━━━━━━━━━━━━\u001b[0m\u001b[37m\u001b[0m \u001b[1m312s\u001b[0m 1s/step - accuracy: 0.5178 - loss: 1.2736 - val_accuracy: 0.4980 - val_loss: 1.3343 - learning_rate: 0.0010\n",
      "Epoch 6/50\n",
      "\u001b[1m226/226\u001b[0m \u001b[32m━━━━━━━━━━━━━━━━━━━━\u001b[0m\u001b[37m\u001b[0m \u001b[1m322s\u001b[0m 1s/step - accuracy: 0.5415 - loss: 1.2066 - val_accuracy: 0.5129 - val_loss: 1.3539 - learning_rate: 0.0010\n",
      "Epoch 7/50\n",
      "\u001b[1m226/226\u001b[0m \u001b[32m━━━━━━━━━━━━━━━━━━━━\u001b[0m\u001b[37m\u001b[0m \u001b[1m346s\u001b[0m 2s/step - accuracy: 0.5550 - loss: 1.1672 - val_accuracy: 0.5406 - val_loss: 1.2242 - learning_rate: 0.0010\n",
      "Epoch 8/50\n",
      "\u001b[1m226/226\u001b[0m \u001b[32m━━━━━━━━━━━━━━━━━━━━\u001b[0m\u001b[37m\u001b[0m \u001b[1m312s\u001b[0m 1s/step - accuracy: 0.5818 - loss: 1.1043 - val_accuracy: 0.5662 - val_loss: 1.1591 - learning_rate: 0.0010\n",
      "Epoch 9/50\n",
      "\u001b[1m226/226\u001b[0m \u001b[32m━━━━━━━━━━━━━━━━━━━━\u001b[0m\u001b[37m\u001b[0m \u001b[1m296s\u001b[0m 1s/step - accuracy: 0.6027 - loss: 1.0547 - val_accuracy: 0.5754 - val_loss: 1.1440 - learning_rate: 0.0010\n",
      "Epoch 10/50\n",
      "\u001b[1m226/226\u001b[0m \u001b[32m━━━━━━━━━━━━━━━━━━━━\u001b[0m\u001b[37m\u001b[0m \u001b[1m300s\u001b[0m 1s/step - accuracy: 0.6183 - loss: 1.0154 - val_accuracy: 0.5385 - val_loss: 1.2505 - learning_rate: 0.0010\n",
      "Epoch 11/50\n",
      "\u001b[1m226/226\u001b[0m \u001b[32m━━━━━━━━━━━━━━━━━━━━\u001b[0m\u001b[37m\u001b[0m \u001b[1m297s\u001b[0m 1s/step - accuracy: 0.6357 - loss: 0.9648 - val_accuracy: 0.5051 - val_loss: 1.4169 - learning_rate: 0.0010\n",
      "Epoch 12/50\n",
      "\u001b[1m226/226\u001b[0m \u001b[32m━━━━━━━━━━━━━━━━━━━━\u001b[0m\u001b[37m\u001b[0m \u001b[1m0s\u001b[0m 1s/step - accuracy: 0.6510 - loss: 0.9254\n",
      "Epoch 12: ReduceLROnPlateau reducing learning rate to 0.00020000000949949026.\n",
      "\u001b[1m226/226\u001b[0m \u001b[32m━━━━━━━━━━━━━━━━━━━━\u001b[0m\u001b[37m\u001b[0m \u001b[1m283s\u001b[0m 1s/step - accuracy: 0.6510 - loss: 0.9254 - val_accuracy: 0.5442 - val_loss: 1.3121 - learning_rate: 0.0010\n",
      "Epoch 12: early stopping\n",
      "Restoring model weights from the end of the best epoch: 9.\n"
     ]
    }
   ],
   "source": [
    "# Training the model\n",
    "history = model.fit(train_set,\n",
    "    validation_data=test_set,\n",
    "    epochs=50,\n",
    "    verbose=1,\n",
    "    callbacks=callbacks_list\n",
    ")"
   ]
  },
  {
   "cell_type": "markdown",
   "id": "5c05d6f7",
   "metadata": {
    "id": "CUBFBK2qIxj4",
    "papermill": {
     "duration": 0.670947,
     "end_time": "2024-04-16T14:34:15.393214",
     "exception": false,
     "start_time": "2024-04-16T14:34:14.722267",
     "status": "completed"
    },
    "tags": []
   },
   "source": [
    "The trained model is saved to a file named `'modelv1.h5'` using the `save()` method. This file contains the model architecture, weights, and training configuration, allowing you to reload the model later for inference or further training."
   ]
  },
  {
   "cell_type": "code",
   "execution_count": 23,
   "id": "0a96f16b",
   "metadata": {
    "execution": {
     "iopub.execute_input": "2024-04-16T14:34:16.797653Z",
     "iopub.status.busy": "2024-04-16T14:34:16.797299Z",
     "iopub.status.idle": "2024-04-16T14:34:16.997381Z",
     "shell.execute_reply": "2024-04-16T14:34:16.996502Z"
    },
    "papermill": {
     "duration": 0.882343,
     "end_time": "2024-04-16T14:34:16.999814",
     "exception": false,
     "start_time": "2024-04-16T14:34:16.117471",
     "status": "completed"
    },
    "tags": []
   },
   "outputs": [],
   "source": [
    "# Save the model with .keras extension\n",
    "model.save(\"modelv2.keras\")"
   ]
  },
  {
   "cell_type": "markdown",
   "id": "b5a11c9a",
   "metadata": {
    "id": "Es_-GrjvJRKq",
    "papermill": {
     "duration": 0.682448,
     "end_time": "2024-04-16T14:34:19.899648",
     "exception": false,
     "start_time": "2024-04-16T14:34:19.217200",
     "status": "completed"
    },
    "tags": []
   },
   "source": [
    "The code snippet plots the model accuracy over epochs during training and validation. It visualizes how the model's performance changes over time and helps identify overfitting or underfitting."
   ]
  },
  {
   "cell_type": "code",
   "execution_count": 59,
   "id": "9bbd7fea",
   "metadata": {
    "execution": {
     "iopub.execute_input": "2024-04-16T14:34:21.381300Z",
     "iopub.status.busy": "2024-04-16T14:34:21.380431Z",
     "iopub.status.idle": "2024-04-16T14:34:21.640870Z",
     "shell.execute_reply": "2024-04-16T14:34:21.640035Z"
    },
    "id": "SxmRSt_sxDve",
    "papermill": {
     "duration": 0.974436,
     "end_time": "2024-04-16T14:34:21.642823",
     "exception": false,
     "start_time": "2024-04-16T14:34:20.668387",
     "status": "completed"
    },
    "tags": []
   },
   "outputs": [
    {
     "data": {
      "image/png": "[encoded data removed]",
      "text/plain": [
       "<Figure size 640x480 with 1 Axes>"
      ]
     },
     "metadata": {},
     "output_type": "display_data"
    }
   ],
   "source": [
    "# Plotting model performance\n",
    "plt.plot(history.history['accuracy'], label='train_accuracy', marker='o')\n",
    "plt.plot(history.history['val_accuracy'], label='val_accuracy', marker='o')\n",
    "plt.title('Model Accuracy')\n",
    "plt.xlabel('Epochs')\n",
    "plt.ylabel('Accuracy')\n",
    "plt.legend()\n",
    "plt.show()"
   ]
  },
  {
   "cell_type": "code",
   "execution_count": null,
   "id": "66dc5875",
   "metadata": {
    "papermill": {
     "duration": 0.779124,
     "end_time": "2024-04-16T14:34:23.084945",
     "exception": false,
     "start_time": "2024-04-16T14:34:22.305821",
     "status": "completed"
    },
    "tags": []
   },
   "outputs": [],
   "source": []
  }
 ],
 "metadata": {
  "accelerator": "TPU",
  "colab": {
   "gpuType": "V28",
   "provenance": []
  },
  "kaggle": {
   "accelerator": "nvidiaTeslaT4",
   "dataSources": [
    {
     "datasetId": 99505,
     "sourceId": 234911,
     "sourceType": "datasetVersion"
    }
   ],
   "dockerImageVersionId": 30673,
   "isGpuEnabled": true,
   "isInternetEnabled": true,
   "language": "python",
   "sourceType": "notebook"
  },
  "kernelspec": {
   "display_name": "Python 3",
   "language": "python",
   "name": "python3"
  },
  "language_info": {
   "codemirror_mode": {
    "name": "ipython",
    "version": 3
   },
   "file_extension": ".py",
   "mimetype": "text/x-python",
   "name": "python",
   "nbconvert_exporter": "python",
   "pygments_lexer": "ipython3",
   "version": "3.12.3"
  },
  "papermill": {
   "default_parameters": {},
   "duration": 881.013189,
   "end_time": "2024-04-16T14:34:26.658074",
   "environment_variables": {},
   "exception": null,
   "input_path": "__notebook__.ipynb",
   "output_path": "__notebook__.ipynb",
   "parameters": {},
   "start_time": "2024-04-16T14:19:45.644885",
   "version": "2.5.0"
  }
 },
 "nbformat": 4,
 "nbformat_minor": 5
}
